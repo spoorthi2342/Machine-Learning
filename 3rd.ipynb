{
 "cells": [
  {
   "cell_type": "code",
   "execution_count": 8,
   "id": "aefba753-f9d2-4a01-b445-c481ad986c0d",
   "metadata": {},
   "outputs": [
    {
     "name": "stdout",
     "output_type": "stream",
     "text": [
      "Transformed Dataset:\n",
      "   sepal length (cm)  sepal width (cm)  petal length (cm)  petal width (cm)  \\\n",
      "0          -0.000393          1.012401          -1.351472         -1.308624   \n",
      "1          -1.148762         -0.137353          -1.351472         -1.308624   \n",
      "2          -1.390951          0.322549          -0.003901         -1.308624   \n",
      "3          -1.512046          0.092598          -1.294339         -1.308624   \n",
      "4          -1.027667          1.242352          -1.351472         -1.308624   \n",
      "5          -0.543288          1.932205          -1.180073         -1.045486   \n",
      "6          -1.512046          0.782450          -1.351472         -1.177055   \n",
      "7          -1.027667          0.782450          -1.294339         -1.308624   \n",
      "8          -1.754235         -0.367304          -1.351472         -1.308624   \n",
      "9          -1.148762          0.092598          -1.294339         -1.440192   \n",
      "\n",
      "   species_setosa  species_versicolor  species_virginica  \n",
      "0             1.0                 0.0                0.0  \n",
      "1             1.0                 0.0                0.0  \n",
      "2             1.0                 0.0                0.0  \n",
      "3             1.0                 0.0                0.0  \n",
      "4             1.0                 0.0                0.0  \n",
      "5             1.0                 0.0                0.0  \n",
      "6             1.0                 0.0                0.0  \n",
      "7             1.0                 0.0                0.0  \n",
      "8             1.0                 0.0                0.0  \n",
      "9             1.0                 0.0                0.0  \n"
     ]
    }
   ],
   "source": [
    "import numpy as np\n",
    "import pandas as pd\n",
    "from sklearn.datasets import load_iris\n",
    "from sklearn.preprocessing import StandardScaler, OneHotEncoder\n",
    "\n",
    "# Load the Iris dataset\n",
    "iris = load_iris()\n",
    "\n",
    "# Create a DataFrame\n",
    "data = pd.DataFrame(data=iris.data, columns=iris.feature_names)\n",
    "data['target'] = iris.target\n",
    "\n",
    "# Introduce missing values and a duplicate row\n",
    "data.iloc[0, 0] = None\n",
    "data.iloc[2, 2] = None\n",
    "data = pd.concat([data, data.iloc[[0]]], ignore_index=True)\n",
    "\n",
    "# Handle missing values and remove duplicates\n",
    "data.fillna(data.mean(), inplace=True)\n",
    "data.drop_duplicates(inplace=True)\n",
    "\n",
    "# Merge additional species data\n",
    "data['species'] = iris.target_names[data['target']]\n",
    "\n",
    "# Scale features\n",
    "scaler = StandardScaler()\n",
    "scaled_features = scaler.fit_transform(data.iloc[:, :-2])\n",
    "\n",
    "# One-hot encode species\n",
    "encoder = OneHotEncoder(sparse_output=False)\n",
    "encoded_species = encoder.fit_transform(data[['species']])\n",
    "\n",
    "# Create final transformed dataset\n",
    "final_transformed_data = pd.concat([\n",
    "    pd.DataFrame(scaled_features, columns=iris.feature_names),\n",
    "    pd.DataFrame(encoded_species, columns=encoder.get_feature_names_out(['species']))\n",
    "], axis=1)\n",
    "\n",
    "# Display the transformed dataset\n",
    "print(\"Transformed Dataset:\")\n",
    "print(final_transformed_data.head(10))\n"
   ]
  },
  {
   "cell_type": "code",
   "execution_count": null,
   "id": "850bbac8-7021-43f5-836f-8c8568cbf02f",
   "metadata": {},
   "outputs": [],
   "source": []
  }
 ],
 "metadata": {
  "kernelspec": {
   "display_name": "Python 3 (ipykernel)",
   "language": "python",
   "name": "python3"
  },
  "language_info": {
   "codemirror_mode": {
    "name": "ipython",
    "version": 3
   },
   "file_extension": ".py",
   "mimetype": "text/x-python",
   "name": "python",
   "nbconvert_exporter": "python",
   "pygments_lexer": "ipython3",
   "version": "3.11.4"
  }
 },
 "nbformat": 4,
 "nbformat_minor": 5
}
