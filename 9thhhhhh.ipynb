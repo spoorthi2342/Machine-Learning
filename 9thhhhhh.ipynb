{
 "cells": [
  {
   "cell_type": "code",
   "execution_count": 1,
   "id": "98bc5d97-da06-43f8-a842-42da90ea8a94",
   "metadata": {},
   "outputs": [],
   "source": [
    "import pandas as pd\n",
    "import numpy as np\n",
    "from pgmpy.inference import VariableElimination\n",
    "from pgmpy.models import BayesianNetwork\n",
    "from pgmpy.estimators import MaximumLikelihoodEstimator\n"
   ]
  },
  {
   "cell_type": "code",
   "execution_count": 3,
   "id": "b70a8906-0832-49e9-b696-cb0bb794ca4e",
   "metadata": {},
   "outputs": [],
   "source": [
    "data= pd.read_csv('heart.csv')\n",
    "target_col= 'target'"
   ]
  },
  {
   "cell_type": "code",
   "execution_count": 4,
   "id": "662cf7e7-ecd2-4a1e-b7fd-3ac21ffb16de",
   "metadata": {},
   "outputs": [],
   "source": [
    "model= BayesianNetwork([\n",
    "    (\"age\",target_col),\n",
    "    (\"sex\",target_col),\n",
    "    (\"cp\",target_col),\n",
    "    (\"restecg\",target_col)\n",
    "])\n",
    "\n",
    "    "
   ]
  },
  {
   "cell_type": "code",
   "execution_count": 8,
   "id": "8fd69625-4b08-4fa0-b627-023d7262bc9f",
   "metadata": {},
   "outputs": [
    {
     "name": "stderr",
     "output_type": "stream",
     "text": [
      "WARNING:pgmpy:Replacing existing CPD for age\n",
      "WARNING:pgmpy:Replacing existing CPD for target\n",
      "WARNING:pgmpy:Replacing existing CPD for sex\n",
      "WARNING:pgmpy:Replacing existing CPD for cp\n",
      "WARNING:pgmpy:Replacing existing CPD for restecg\n"
     ]
    },
    {
     "name": "stdout",
     "output_type": "stream",
     "text": [
      "+-----------+---------------+\n",
      "| target    |   phi(target) |\n",
      "+===========+===============+\n",
      "| target(0) |        0.4334 |\n",
      "+-----------+---------------+\n",
      "| target(1) |        0.5666 |\n",
      "+-----------+---------------+\n"
     ]
    }
   ],
   "source": [
    "model.fit(data, estimator= MaximumLikelihoodEstimator)\n",
    "\n",
    "feture_val= VariableElimination(model)\n",
    "\n",
    "val= feture_val.query(variables=[target_col], evidence=({\"cp\":1}))\n",
    "print(val)"
   ]
  },
  {
   "cell_type": "code",
   "execution_count": 9,
   "id": "b6ed4f14-fff9-44e9-9a6b-784d288c01f7",
   "metadata": {},
   "outputs": [
    {
     "name": "stdout",
     "output_type": "stream",
     "text": [
      "+-----------+---------------+\n",
      "| target    |   phi(target) |\n",
      "+===========+===============+\n",
      "| target(0) |        0.4972 |\n",
      "+-----------+---------------+\n",
      "| target(1) |        0.5028 |\n",
      "+-----------+---------------+\n"
     ]
    }
   ],
   "source": [
    "val= feture_val.query(variables=[target_col], evidence=({\"restecg\":1}))\n",
    "print(val)"
   ]
  },
  {
   "cell_type": "code",
   "execution_count": null,
   "id": "2a83dc72-d427-45b6-8264-6ce8ced8a7ee",
   "metadata": {},
   "outputs": [],
   "source": []
  }
 ],
 "metadata": {
  "kernelspec": {
   "display_name": "Python 3 (ipykernel)",
   "language": "python",
   "name": "python3"
  },
  "language_info": {
   "codemirror_mode": {
    "name": "ipython",
    "version": 3
   },
   "file_extension": ".py",
   "mimetype": "text/x-python",
   "name": "python",
   "nbconvert_exporter": "python",
   "pygments_lexer": "ipython3",
   "version": "3.11.4"
  }
 },
 "nbformat": 4,
 "nbformat_minor": 5
}
