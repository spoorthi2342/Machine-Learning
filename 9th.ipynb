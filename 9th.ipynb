{
 "cells": [
  {
   "cell_type": "code",
   "execution_count": 9,
   "id": "056f9578-719e-4c8f-ade9-4d8617ecc434",
   "metadata": {},
   "outputs": [],
   "source": [
    "import pandas as pd\n",
    "from pgmpy.models import BayesianNetwork\n",
    "from pgmpy.estimators import MaximumLikelihoodEstimator\n",
    "from pgmpy.inference import VariableElimination"
   ]
  },
  {
   "cell_type": "code",
   "execution_count": 10,
   "id": "af482cd1-22fc-4001-b975-eef25739e60d",
   "metadata": {},
   "outputs": [
    {
     "name": "stdout",
     "output_type": "stream",
     "text": [
      "   age  sex  cp  thalach  exang  oldpeak  target\n",
      "0   52    1   0      168      0      1.0       0\n",
      "1   53    1   0      155      1      3.1       0\n",
      "2   70    1   0      125      1      2.6       0\n",
      "3   61    1   0      161      0      0.0       0\n",
      "4   62    0   0      106      0      1.9       0\n"
     ]
    }
   ],
   "source": [
    "# Load the dataset\n",
    "data = pd.read_csv('heart.csv')\n",
    "\n",
    "# Select a subset of key features and the target variable\n",
    "subset_data = data[['age', 'sex', 'cp', 'thalach', 'exang', 'oldpeak', 'target']]\n",
    "\n",
    "# Display first few rows of the dataset\n",
    "print(subset_data.head())"
   ]
  },
  {
   "cell_type": "code",
   "execution_count": 11,
   "id": "9ec4b146-ee5f-451b-bfdd-910c8c466238",
   "metadata": {},
   "outputs": [],
   "source": [
    "# Define a simpler structure of the Bayesian network\n",
    "model = BayesianNetwork([\n",
    "    ('age', 'target'),\n",
    "    ('sex', 'target'),\n",
    "    ('cp', 'target'),\n",
    "    ('thalach', 'target'),\n",
    "    ('exang', 'target'),\n",
    "    ('oldpeak', 'target')\n",
    "])\n",
    "\n",
    "# Parameter learning using Maximum Likelihood Estimation\n",
    "model.fit(subset_data, estimator=MaximumLikelihoodEstimator)"
   ]
  },
  {
   "cell_type": "code",
   "execution_count": 13,
   "id": "f7811f88-089c-4247-82f2-6431a7e7724b",
   "metadata": {},
   "outputs": [
    {
     "name": "stdout",
     "output_type": "stream",
     "text": [
      "+-----------+---------------+\n",
      "| target    |   phi(target) |\n",
      "+===========+===============+\n",
      "| target(0) |        0.5000 |\n",
      "+-----------+---------------+\n",
      "| target(1) |        0.5000 |\n",
      "+-----------+---------------+\n"
     ]
    }
   ],
   "source": [
    "inference = VariableElimination(model)\n",
    "\n",
    "evidence = {\n",
    "    'age': 63, \n",
    "    'sex': 1, \n",
    "    'cp': 1, \n",
    "    'thalach': 150, \n",
    "    'exang': 0, \n",
    "    'oldpeak': 2.3\n",
    "}\n",
    "\n",
    "result = inference.query(variables=['target'], evidence=evidence)\n",
    "print(result)"
   ]
  },
  {
   "cell_type": "code",
   "execution_count": null,
   "id": "94e204fd-1741-4e2e-8272-87d8e836ee62",
   "metadata": {},
   "outputs": [],
   "source": []
  },
  {
   "cell_type": "code",
   "execution_count": null,
   "id": "942d55a1-f4d5-4fea-a1bd-fd530028eae0",
   "metadata": {},
   "outputs": [],
   "source": []
  }
 ],
 "metadata": {
  "kernelspec": {
   "display_name": "Python 3 (ipykernel)",
   "language": "python",
   "name": "python3"
  },
  "language_info": {
   "codemirror_mode": {
    "name": "ipython",
    "version": 3
   },
   "file_extension": ".py",
   "mimetype": "text/x-python",
   "name": "python",
   "nbconvert_exporter": "python",
   "pygments_lexer": "ipython3",
   "version": "3.11.4"
  }
 },
 "nbformat": 4,
 "nbformat_minor": 5
}
