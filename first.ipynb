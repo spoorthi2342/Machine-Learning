{
 "cells": [
  {
   "cell_type": "code",
   "execution_count": 5,
   "id": "d6d975a0-5674-4467-aadf-240396dbe95c",
   "metadata": {},
   "outputs": [
    {
     "name": "stdout",
     "output_type": "stream",
     "text": [
      "Concepts (features):\n",
      "[['Sunny' 'Warm' 'High' 'Strong' 'Warm' 'Same']\n",
      " ['Rainy' 'Cold' 'High' 'Strong' 'Warm' 'Change']\n",
      " ['Sunny' 'Warm' 'High' 'Strong' 'Cool' 'Change']]\n",
      "\n",
      "Target (class labels):\n",
      "['Yes' 'No' 'Yes']\n",
      "\n",
      "Initial specific hypothesis (specific_h):\n",
      "['Sunny' 'Warm' 'High' 'Strong' 'Warm' 'Same']\n",
      "\n",
      "Specific hypothesis after instance 1 :\n",
      "['Sunny' 'Warm' 'High' 'Strong' 'Warm' 'Same']\n",
      "\n",
      "Specific hypothesis after instance 3 :\n",
      "['Sunny' 'Warm' 'High' 'Strong' '?' '?']\n",
      "\n",
      "Final Specific_h:\n",
      "['Sunny' 'Warm' 'High' 'Strong' '?' '?']\n"
     ]
    }
   ],
   "source": [
    "import numpy as np\n",
    "import pandas as pd\n",
    "\n",
    "# Load the dataset\n",
    "data = pd.DataFrame(data=pd.read_csv('enjoysport.csv'))\n",
    "\n",
    "# Extract the concepts (features) and the target (class labels)\n",
    "concepts = np.array(data.iloc[:, 0:-1])\n",
    "print(\"Concepts (features):\")\n",
    "print(concepts)\n",
    "\n",
    "target = np.array(data.iloc[:, -1])\n",
    "print(\"\\nTarget (class labels):\")\n",
    "print(target)\n",
    "\n",
    "def find_s(concepts, target):\n",
    "    # Initialize the specific hypothesis to the first positive instance\n",
    "    for i, val in enumerate(target):\n",
    "        if val == 'yes':\n",
    "            specific_h = concepts[i].copy()\n",
    "            break\n",
    "            \n",
    "    print(\"\\nInitial specific hypothesis (specific_h):\")\n",
    "    print(specific_h)\n",
    "    \n",
    "    # Iterate through each instance and its corresponding target value\n",
    "    for i, h in enumerate(concepts):\n",
    "        # If the target value is \"yes\", adjust the specific hypothesis\n",
    "        if target[i] == \"yes\":\n",
    "            for x in range(len(specific_h)):\n",
    "                if h[x] != specific_h[x]:\n",
    "                    specific_h[x] = '?'\n",
    "            print(\"\\nSpecific hypothesis after instance\", i+1, \":\")\n",
    "            print(specific_h)\n",
    "    \n",
    "    return specific_h\n",
    "    \n",
    "# Execute the find_s function\n",
    "s_final = find_s(concepts, target)\n",
    "\n",
    "# Display the final specific hypothesis\n",
    "print(\"\\nFinal Specific_h:\", s_final, sep=\"\\n\")\n"
   ]
  },
  {
   "cell_type": "code",
   "execution_count": null,
   "id": "fec28467-2701-4973-a0a7-0a0231be3e1c",
   "metadata": {},
   "outputs": [],
   "source": []
  }
 ],
 "metadata": {
  "kernelspec": {
   "display_name": "Python 3 (ipykernel)",
   "language": "python",
   "name": "python3"
  },
  "language_info": {
   "codemirror_mode": {
    "name": "ipython",
    "version": 3
   },
   "file_extension": ".py",
   "mimetype": "text/x-python",
   "name": "python",
   "nbconvert_exporter": "python",
   "pygments_lexer": "ipython3",
   "version": "3.11.4"
  }
 },
 "nbformat": 4,
 "nbformat_minor": 5
}
