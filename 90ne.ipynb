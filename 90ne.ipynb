{
 "cells": [
  {
   "cell_type": "code",
   "execution_count": 1,
   "id": "bcac1253-1494-4f48-b66f-2f8e14c39880",
   "metadata": {},
   "outputs": [],
   "source": [
    "import numpy as np\n",
    "import pandas as pd\n",
    "from pgmpy.models import BayesianNetwork\n",
    "from pgmpy.inference import VariableElimination\n",
    "from pgmpy.estimators import MaximumLikelihoodEstimator\n"
   ]
  },
  {
   "cell_type": "code",
   "execution_count": 2,
   "id": "c75fe647-c3ce-4414-ab23-cb108adb4191",
   "metadata": {},
   "outputs": [
    {
     "name": "stdout",
     "output_type": "stream",
     "text": [
      "      age  sex  cp  trestbps  chol  fbs  restecg  thalach  exang  oldpeak  slope  ca  thal  target\n",
      "0      52    1   0       125   212    0        1      168      0      1.0      2   2     3       0\n",
      "1      53    1   0       140   203    1        0      155      1      3.1      0   0     3       0\n",
      "2      70    1   0       145   174    0        1      125      1      2.6      0   0     3       0\n",
      "3      61    1   0       148   203    0        1      161      0      0.0      2   1     3       0\n",
      "4      62    0   0       138   294    1        1      106      0      1.9      1   3     2       0\n",
      "...   ...  ...  ..       ...   ...  ...      ...      ...    ...      ...    ...  ..   ...     ...\n",
      "1020   59    1   1       140   221    0        1      164      1      0.0      2   0     2       1\n",
      "1021   60    1   0       125   258    0        0      141      1      2.8      1   1     3       0\n",
      "1022   47    1   0       110   275    0        0      118      1      1.0      1   1     2       0\n",
      "1023   50    0   0       110   254    0        0      159      0      0.0      2   0     2       1\n",
      "1024   54    1   0       120   188    0        1      113      0      1.4      1   1     3       0\n",
      "\n",
      "[1025 rows x 14 columns]\n"
     ]
    }
   ],
   "source": [
    "data= pd.read_csv('heart.csv')\n",
    "print(data)"
   ]
  },
  {
   "cell_type": "code",
   "execution_count": 3,
   "id": "cccba962-0c96-4d2a-a45f-6ff221b51713",
   "metadata": {},
   "outputs": [],
   "source": [
    "if 'target' in data.columns:\n",
    "    target_col= 'target'"
   ]
  },
  {
   "cell_type": "code",
   "execution_count": 4,
   "id": "217aef20-bf8c-4e6b-949f-194d9be7d2cf",
   "metadata": {},
   "outputs": [
    {
     "name": "stdout",
     "output_type": "stream",
     "text": [
      "+-----------+---------------+\n",
      "| target    |   phi(target) |\n",
      "+===========+===============+\n",
      "| target(0) |        0.4334 |\n",
      "+-----------+---------------+\n",
      "| target(1) |        0.5666 |\n",
      "+-----------+---------------+\n",
      "+-----------+---------------+\n",
      "| target    |   phi(target) |\n",
      "+===========+===============+\n",
      "| target(0) |        0.4972 |\n",
      "+-----------+---------------+\n",
      "| target(1) |        0.5028 |\n",
      "+-----------+---------------+\n"
     ]
    }
   ],
   "source": [
    "model =BayesianNetwork([\n",
    "    ('age',target_col),\n",
    "    ('sex',target_col),\n",
    "    ('cp',target_col),\n",
    "    ('restecg', target_col)\n",
    "])\n",
    "\n",
    "model.fit(data, estimator = MaximumLikelihoodEstimator)\n",
    "\n",
    "heart_des_infer = VariableElimination(model)\n",
    "\n",
    "result_cp= heart_des_infer.query(variables=[target_col], evidence={\"cp\":1})\n",
    "print(result_cp)\n",
    "\n",
    "result_ecg= heart_des_infer.query(variables=[target_col],evidence={\"restecg\":1})\n",
    "print(result_ecg)"
   ]
  },
  {
   "cell_type": "code",
   "execution_count": null,
   "id": "5daeca53-6cf3-42a1-9793-8bab2d8ec2ef",
   "metadata": {},
   "outputs": [],
   "source": []
  }
 ],
 "metadata": {
  "kernelspec": {
   "display_name": "Python 3 (ipykernel)",
   "language": "python",
   "name": "python3"
  },
  "language_info": {
   "codemirror_mode": {
    "name": "ipython",
    "version": 3
   },
   "file_extension": ".py",
   "mimetype": "text/x-python",
   "name": "python",
   "nbconvert_exporter": "python",
   "pygments_lexer": "ipython3",
   "version": "3.11.4"
  }
 },
 "nbformat": 4,
 "nbformat_minor": 5
}
