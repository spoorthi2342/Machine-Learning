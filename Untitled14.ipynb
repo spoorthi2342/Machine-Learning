{
 "cells": [
  {
   "cell_type": "code",
   "execution_count": 1,
   "id": "20eb0a24-763f-4a7b-974b-898c8197d3d9",
   "metadata": {},
   "outputs": [],
   "source": [
    "import pandas as pd\n",
    "data= pd.read_csv(\"ws.csv\")"
   ]
  },
  {
   "cell_type": "code",
   "execution_count": 2,
   "id": "916f2ca5-d45d-4c91-89a2-b3cbb2042ff8",
   "metadata": {},
   "outputs": [],
   "source": [
    "feature= data.columns[:-1]\n",
    "target= data.columns[-1]"
   ]
  },
  {
   "cell_type": "code",
   "execution_count": 6,
   "id": "1b5fe4b8-77ce-4721-b548-232dd9f00622",
   "metadata": {},
   "outputs": [],
   "source": [
    "hypothesis=['?' for _ in range (len(feature))]"
   ]
  },
  {
   "cell_type": "code",
   "execution_count": 7,
   "id": "966f5cf7-b3ee-40ec-bc20-28933331d1fd",
   "metadata": {},
   "outputs": [
    {
     "name": "stdout",
     "output_type": "stream",
     "text": [
      "answer is 0: ['Sunny', 'Warm', 'High', 'Strong', 'Warm', 'Same']\n",
      "['Sunny', 'Warm', 'High', 'Strong', 'Warm', 'Same']\n",
      "['Sunny', 'Warm', 'High', 'Strong', 'Warm', 'Same']\n",
      "answer is 2: ['Sunny', 'Warm', 'High', 'Strong', '?', '?']\n",
      "['Sunny', 'Warm', 'High', 'Strong', '?', '?']\n"
     ]
    }
   ],
   "source": [
    "for index, row in data.iterrows():\n",
    "    if row[target] == 'Yes':\n",
    "        for i in range (len(feature)):\n",
    "            if hypothesis[i] == '?':\n",
    "                hypothesis[i]= row[i]\n",
    "            elif hypothesis[i] != row[i]:\n",
    "                hypothesis[i] = '?'\n",
    "        print(f\"answer is {index}: {hypothesis}\")\n",
    "    print(f\"{hypothesis}\")"
   ]
  },
  {
   "cell_type": "code",
   "execution_count": null,
   "id": "619306db-0331-4d55-8811-020f1925aacb",
   "metadata": {},
   "outputs": [],
   "source": []
  }
 ],
 "metadata": {
  "kernelspec": {
   "display_name": "Python 3 (ipykernel)",
   "language": "python",
   "name": "python3"
  },
  "language_info": {
   "codemirror_mode": {
    "name": "ipython",
    "version": 3
   },
   "file_extension": ".py",
   "mimetype": "text/x-python",
   "name": "python",
   "nbconvert_exporter": "python",
   "pygments_lexer": "ipython3",
   "version": "3.11.4"
  }
 },
 "nbformat": 4,
 "nbformat_minor": 5
}
