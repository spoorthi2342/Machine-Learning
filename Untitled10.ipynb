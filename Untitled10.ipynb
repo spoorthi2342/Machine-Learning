{
 "cells": [
  {
   "cell_type": "code",
   "execution_count": 4,
   "id": "6a103c7a-9e7d-42a4-bbb4-ca8e3045a00e",
   "metadata": {},
   "outputs": [
    {
     "ename": "ImportError",
     "evalue": "cannot import name 'VariableEliminatton' from 'pgmpy.inference' (C:\\Users\\spoor\\AppData\\Local\\Programs\\Python\\Python311\\Lib\\site-packages\\pgmpy\\inference\\__init__.py)",
     "output_type": "error",
     "traceback": [
      "\u001b[1;31m---------------------------------------------------------------------------\u001b[0m",
      "\u001b[1;31mImportError\u001b[0m                               Traceback (most recent call last)",
      "Cell \u001b[1;32mIn[4], line 3\u001b[0m\n\u001b[0;32m      1\u001b[0m \u001b[38;5;28;01mimport\u001b[39;00m \u001b[38;5;21;01mnumpy\u001b[39;00m \u001b[38;5;28;01mas\u001b[39;00m \u001b[38;5;21;01mnp\u001b[39;00m\n\u001b[0;32m      2\u001b[0m \u001b[38;5;28;01mimport\u001b[39;00m \u001b[38;5;21;01mpandas\u001b[39;00m \u001b[38;5;28;01mas\u001b[39;00m \u001b[38;5;21;01mpd\u001b[39;00m\n\u001b[1;32m----> 3\u001b[0m \u001b[38;5;28;01mfrom\u001b[39;00m \u001b[38;5;21;01mpgmpy\u001b[39;00m\u001b[38;5;21;01m.\u001b[39;00m\u001b[38;5;21;01minference\u001b[39;00m \u001b[38;5;28;01mimport\u001b[39;00m VariableEliminatton\n\u001b[0;32m      4\u001b[0m \u001b[38;5;28;01mfrom\u001b[39;00m \u001b[38;5;21;01mpgmpy\u001b[39;00m\u001b[38;5;21;01m.\u001b[39;00m\u001b[38;5;21;01mmodels\u001b[39;00m \u001b[38;5;28;01mimport\u001b[39;00m BayesianModel\n\u001b[0;32m      5\u001b[0m \u001b[38;5;28;01mfrom\u001b[39;00m \u001b[38;5;21;01mpgmpy\u001b[39;00m\u001b[38;5;21;01m.\u001b[39;00m\u001b[38;5;21;01mestimators\u001b[39;00m \u001b[38;5;28;01mimport\u001b[39;00m MaximumLikelihoodEstimator\n",
      "\u001b[1;31mImportError\u001b[0m: cannot import name 'VariableEliminatton' from 'pgmpy.inference' (C:\\Users\\spoor\\AppData\\Local\\Programs\\Python\\Python311\\Lib\\site-packages\\pgmpy\\inference\\__init__.py)"
     ]
    }
   ],
   "source": [
    "import numpy as np\n",
    "import pandas as pd\n",
    "from pgmpy.inference import VariableEliminatton\n",
    "from pgmpy.models import BayesianModel\n",
    "from pgmpy.estimators import MaximumLikelihoodEstimator"
   ]
  },
  {
   "cell_type": "code",
   "execution_count": 2,
   "id": "1c66ca37-a137-4319-88b3-62798ceb26d0",
   "metadata": {},
   "outputs": [
    {
     "name": "stdout",
     "output_type": "stream",
     "text": [
      "Collecting pgmpyNote: you may need to restart the kernel to use updated packages.\n",
      "\n",
      "  Downloading pgmpy-0.1.25-py3-none-any.whl.metadata (6.4 kB)\n",
      "Requirement already satisfied: networkx in c:\\users\\spoor\\appdata\\local\\programs\\python\\python311\\lib\\site-packages (from pgmpy) (3.1)\n",
      "Requirement already satisfied: numpy in c:\\users\\spoor\\appdata\\local\\programs\\python\\python311\\lib\\site-packages (from pgmpy) (1.25.0)\n",
      "Requirement already satisfied: scipy in c:\\users\\spoor\\appdata\\local\\programs\\python\\python311\\lib\\site-packages (from pgmpy) (1.11.1)\n",
      "Requirement already satisfied: scikit-learn in c:\\users\\spoor\\appdata\\local\\programs\\python\\python311\\lib\\site-packages (from pgmpy) (1.3.0)\n",
      "Requirement already satisfied: pandas in c:\\users\\spoor\\appdata\\local\\programs\\python\\python311\\lib\\site-packages (from pgmpy) (2.0.2)\n",
      "Requirement already satisfied: pyparsing in c:\\users\\spoor\\appdata\\local\\programs\\python\\python311\\lib\\site-packages (from pgmpy) (3.1.0)\n",
      "Requirement already satisfied: torch in c:\\users\\spoor\\appdata\\local\\programs\\python\\python311\\lib\\site-packages (from pgmpy) (2.1.1)\n",
      "Collecting statsmodels (from pgmpy)\n",
      "  Downloading statsmodels-0.14.2-cp311-cp311-win_amd64.whl.metadata (9.5 kB)\n",
      "Requirement already satisfied: tqdm in c:\\users\\spoor\\appdata\\local\\programs\\python\\python311\\lib\\site-packages (from pgmpy) (4.66.1)\n",
      "Requirement already satisfied: joblib in c:\\users\\spoor\\appdata\\local\\programs\\python\\python311\\lib\\site-packages (from pgmpy) (1.3.1)\n",
      "Collecting opt-einsum (from pgmpy)\n",
      "  Downloading opt_einsum-3.3.0-py3-none-any.whl.metadata (6.5 kB)\n",
      "Requirement already satisfied: python-dateutil>=2.8.2 in c:\\users\\spoor\\appdata\\local\\programs\\python\\python311\\lib\\site-packages (from pandas->pgmpy) (2.8.2)\n",
      "Requirement already satisfied: pytz>=2020.1 in c:\\users\\spoor\\appdata\\local\\programs\\python\\python311\\lib\\site-packages (from pandas->pgmpy) (2023.3)\n",
      "Requirement already satisfied: tzdata>=2022.1 in c:\\users\\spoor\\appdata\\local\\programs\\python\\python311\\lib\\site-packages (from pandas->pgmpy) (2023.3)\n",
      "Requirement already satisfied: threadpoolctl>=2.0.0 in c:\\users\\spoor\\appdata\\local\\programs\\python\\python311\\lib\\site-packages (from scikit-learn->pgmpy) (3.2.0)\n",
      "Collecting patsy>=0.5.6 (from statsmodels->pgmpy)\n",
      "  Downloading patsy-0.5.6-py2.py3-none-any.whl.metadata (3.5 kB)\n",
      "Requirement already satisfied: packaging>=21.3 in c:\\users\\spoor\\appdata\\local\\programs\\python\\python311\\lib\\site-packages (from statsmodels->pgmpy) (23.1)\n",
      "Requirement already satisfied: filelock in c:\\users\\spoor\\appdata\\local\\programs\\python\\python311\\lib\\site-packages (from torch->pgmpy) (3.13.1)\n",
      "Requirement already satisfied: typing-extensions in c:\\users\\spoor\\appdata\\local\\programs\\python\\python311\\lib\\site-packages (from torch->pgmpy) (4.6.3)\n",
      "Requirement already satisfied: sympy in c:\\users\\spoor\\appdata\\local\\programs\\python\\python311\\lib\\site-packages (from torch->pgmpy) (1.12)\n",
      "Requirement already satisfied: jinja2 in c:\\users\\spoor\\appdata\\local\\programs\\python\\python311\\lib\\site-packages (from torch->pgmpy) (3.1.2)\n",
      "Requirement already satisfied: fsspec in c:\\users\\spoor\\appdata\\local\\programs\\python\\python311\\lib\\site-packages (from torch->pgmpy) (2023.10.0)\n",
      "Requirement already satisfied: colorama in c:\\users\\spoor\\appdata\\local\\programs\\python\\python311\\lib\\site-packages (from tqdm->pgmpy) (0.4.6)\n",
      "Requirement already satisfied: six in c:\\users\\spoor\\appdata\\local\\programs\\python\\python311\\lib\\site-packages (from patsy>=0.5.6->statsmodels->pgmpy) (1.16.0)\n",
      "Requirement already satisfied: MarkupSafe>=2.0 in c:\\users\\spoor\\appdata\\local\\programs\\python\\python311\\lib\\site-packages (from jinja2->torch->pgmpy) (2.1.3)\n",
      "Requirement already satisfied: mpmath>=0.19 in c:\\users\\spoor\\appdata\\local\\programs\\python\\python311\\lib\\site-packages (from sympy->torch->pgmpy) (1.3.0)\n",
      "Downloading pgmpy-0.1.25-py3-none-any.whl (2.0 MB)\n",
      "   ---------------------------------------- 0.0/2.0 MB ? eta -:--:--\n",
      "   ---------------------------------------- 0.0/2.0 MB ? eta -:--:--\n",
      "    --------------------------------------- 0.0/2.0 MB 653.6 kB/s eta 0:00:03\n",
      "   -- ------------------------------------- 0.1/2.0 MB 1.0 MB/s eta 0:00:02\n",
      "   ------ --------------------------------- 0.3/2.0 MB 2.0 MB/s eta 0:00:01\n",
      "   ------------ --------------------------- 0.6/2.0 MB 2.9 MB/s eta 0:00:01\n",
      "   ---------------- ----------------------- 0.8/2.0 MB 3.4 MB/s eta 0:00:01\n",
      "   ---------------- ----------------------- 0.8/2.0 MB 3.4 MB/s eta 0:00:01\n",
      "   ------------------------ --------------- 1.2/2.0 MB 3.5 MB/s eta 0:00:01\n",
      "   ------------------------------- -------- 1.6/2.0 MB 4.1 MB/s eta 0:00:01\n",
      "   ------------------------------------- -- 1.9/2.0 MB 4.2 MB/s eta 0:00:01\n",
      "   ---------------------------------------- 2.0/2.0 MB 4.2 MB/s eta 0:00:00\n",
      "Downloading opt_einsum-3.3.0-py3-none-any.whl (65 kB)\n",
      "   ---------------------------------------- 0.0/65.5 kB ? eta -:--:--\n",
      "   ---------------------------------------- 65.5/65.5 kB ? eta 0:00:00\n",
      "Downloading statsmodels-0.14.2-cp311-cp311-win_amd64.whl (9.9 MB)\n",
      "   ---------------------------------------- 0.0/9.9 MB ? eta -:--:--\n",
      "   - -------------------------------------- 0.3/9.9 MB 8.0 MB/s eta 0:00:02\n",
      "   -- ------------------------------------- 0.5/9.9 MB 6.7 MB/s eta 0:00:02\n",
      "   --- ------------------------------------ 0.8/9.9 MB 6.5 MB/s eta 0:00:02\n",
      "   ---- ----------------------------------- 1.1/9.9 MB 6.4 MB/s eta 0:00:02\n",
      "   ----- ---------------------------------- 1.4/9.9 MB 6.3 MB/s eta 0:00:02\n",
      "   ------ --------------------------------- 1.7/9.9 MB 6.2 MB/s eta 0:00:02\n",
      "   ------- -------------------------------- 1.9/9.9 MB 6.2 MB/s eta 0:00:02\n",
      "   --------- ------------------------------ 2.2/9.9 MB 6.2 MB/s eta 0:00:02\n",
      "   ---------- ----------------------------- 2.5/9.9 MB 6.1 MB/s eta 0:00:02\n",
      "   ----------- ---------------------------- 2.8/9.9 MB 6.1 MB/s eta 0:00:02\n",
      "   ------------ --------------------------- 3.1/9.9 MB 6.1 MB/s eta 0:00:02\n",
      "   ------------- -------------------------- 3.3/9.9 MB 6.1 MB/s eta 0:00:02\n",
      "   -------------- ------------------------- 3.6/9.9 MB 6.1 MB/s eta 0:00:02\n",
      "   --------------- ------------------------ 3.9/9.9 MB 6.1 MB/s eta 0:00:01\n",
      "   ---------------- ----------------------- 4.2/9.9 MB 6.1 MB/s eta 0:00:01\n",
      "   ----------------- ---------------------- 4.4/9.9 MB 6.1 MB/s eta 0:00:01\n",
      "   ----------------- ---------------------- 4.4/9.9 MB 6.1 MB/s eta 0:00:01\n",
      "   -------------------- ------------------- 5.0/9.9 MB 6.0 MB/s eta 0:00:01\n",
      "   --------------------- ------------------ 5.3/9.9 MB 6.0 MB/s eta 0:00:01\n",
      "   ---------------------- ----------------- 5.6/9.9 MB 6.0 MB/s eta 0:00:01\n",
      "   ----------------------- ---------------- 5.8/9.9 MB 6.0 MB/s eta 0:00:01\n",
      "   ------------------------ --------------- 6.0/9.9 MB 6.0 MB/s eta 0:00:01\n",
      "   ------------------------ --------------- 6.0/9.9 MB 5.7 MB/s eta 0:00:01\n",
      "   -------------------------- ------------- 6.6/9.9 MB 6.0 MB/s eta 0:00:01\n",
      "   ---------------------------- ----------- 6.9/9.9 MB 6.0 MB/s eta 0:00:01\n",
      "   ----------------------------- ---------- 7.2/9.9 MB 6.0 MB/s eta 0:00:01\n",
      "   ------------------------------ --------- 7.5/9.9 MB 6.0 MB/s eta 0:00:01\n",
      "   ------------------------------- -------- 7.8/9.9 MB 6.0 MB/s eta 0:00:01\n",
      "   ------------------------------- -------- 7.8/9.9 MB 6.0 MB/s eta 0:00:01\n",
      "   -------------------------------- ------- 8.0/9.9 MB 5.7 MB/s eta 0:00:01\n",
      "   ---------------------------------- ----- 8.6/9.9 MB 6.0 MB/s eta 0:00:01\n",
      "   ----------------------------------- ---- 8.9/9.9 MB 6.0 MB/s eta 0:00:01\n",
      "   ------------------------------------- -- 9.2/9.9 MB 6.0 MB/s eta 0:00:01\n",
      "   -------------------------------------- - 9.4/9.9 MB 6.0 MB/s eta 0:00:01\n",
      "   -------------------------------------- - 9.6/9.9 MB 5.9 MB/s eta 0:00:01\n",
      "   ---------------------------------------  9.9/9.9 MB 5.9 MB/s eta 0:00:01\n",
      "   ---------------------------------------- 9.9/9.9 MB 5.8 MB/s eta 0:00:00\n",
      "Downloading patsy-0.5.6-py2.py3-none-any.whl (233 kB)\n",
      "   ---------------------------------------- 0.0/233.9 kB ? eta -:--:--\n",
      "   ---------------------------------------- 233.9/233.9 kB 4.8 MB/s eta 0:00:00\n",
      "Installing collected packages: patsy, opt-einsum, statsmodels, pgmpy\n",
      "Successfully installed opt-einsum-3.3.0 patsy-0.5.6 pgmpy-0.1.25 statsmodels-0.14.2\n"
     ]
    },
    {
     "name": "stderr",
     "output_type": "stream",
     "text": [
      "\n",
      "[notice] A new release of pip is available: 24.0 -> 24.1.2\n",
      "[notice] To update, run: python.exe -m pip install --upgrade pip\n"
     ]
    }
   ],
   "source": [
    "pip install pgmpy\n"
   ]
  },
  {
   "cell_type": "code",
   "execution_count": 3,
   "id": "f27625f6-4078-4050-af9e-5e6152cbcebe",
   "metadata": {},
   "outputs": [
    {
     "name": "stdout",
     "output_type": "stream",
     "text": [
      "Requirement already satisfied: torch in c:\\users\\spoor\\appdata\\local\\programs\\python\\python311\\lib\\site-packages (2.1.1)\n",
      "Requirement already satisfied: filelock in c:\\users\\spoor\\appdata\\local\\programs\\python\\python311\\lib\\site-packages (from torch) (3.13.1)\n",
      "Requirement already satisfied: typing-extensions in c:\\users\\spoor\\appdata\\local\\programs\\python\\python311\\lib\\site-packages (from torch) (4.6.3)\n",
      "Requirement already satisfied: sympy in c:\\users\\spoor\\appdata\\local\\programs\\python\\python311\\lib\\site-packages (from torch) (1.12)\n",
      "Requirement already satisfied: networkx in c:\\users\\spoor\\appdata\\local\\programs\\python\\python311\\lib\\site-packages (from torch) (3.1)\n",
      "Requirement already satisfied: jinja2 in c:\\users\\spoor\\appdata\\local\\programs\\python\\python311\\lib\\site-packages (from torch) (3.1.2)\n",
      "Requirement already satisfied: fsspec in c:\\users\\spoor\\appdata\\local\\programs\\python\\python311\\lib\\site-packages (from torch) (2023.10.0)\n",
      "Requirement already satisfied: MarkupSafe>=2.0 in c:\\users\\spoor\\appdata\\local\\programs\\python\\python311\\lib\\site-packages (from jinja2->torch) (2.1.3)\n",
      "Requirement already satisfied: mpmath>=0.19 in c:\\users\\spoor\\appdata\\local\\programs\\python\\python311\\lib\\site-packages (from sympy->torch) (1.3.0)\n",
      "Note: you may need to restart the kernel to use updated packages.\n"
     ]
    },
    {
     "name": "stderr",
     "output_type": "stream",
     "text": [
      "\n",
      "[notice] A new release of pip is available: 24.0 -> 24.1.2\n",
      "[notice] To update, run: python.exe -m pip install --upgrade pip\n"
     ]
    }
   ],
   "source": [
    "pip install torch"
   ]
  },
  {
   "cell_type": "code",
   "execution_count": 5,
   "id": "31aea86e-cb20-44b5-be2a-95884dc8778f",
   "metadata": {},
   "outputs": [],
   "source": [
    "data= pd.read_csv(\"heartdisease.csv\")"
   ]
  },
  {
   "cell_type": "code",
   "execution_count": 7,
   "id": "ef7276bb-3de0-4d1a-bffc-78e08ec65c23",
   "metadata": {},
   "outputs": [
    {
     "ename": "ModuleNotFoundError",
     "evalue": "No module named 'pgmpy.model'",
     "output_type": "error",
     "traceback": [
      "\u001b[1;31m---------------------------------------------------------------------------\u001b[0m",
      "\u001b[1;31mModuleNotFoundError\u001b[0m                       Traceback (most recent call last)",
      "Cell \u001b[1;32mIn[7], line 1\u001b[0m\n\u001b[1;32m----> 1\u001b[0m \u001b[38;5;28;01mfrom\u001b[39;00m \u001b[38;5;21;01mpgmpy\u001b[39;00m\u001b[38;5;21;01m.\u001b[39;00m\u001b[38;5;21;01mmodel\u001b[39;00m \u001b[38;5;28;01mimport\u001b[39;00m BayesianModel\n\u001b[0;32m      2\u001b[0m model\u001b[38;5;241m=\u001b[39m BayesianModel([(\u001b[38;5;124m\"\u001b[39m\u001b[38;5;124mage\u001b[39m\u001b[38;5;124m\"\u001b[39m,\u001b[38;5;124m\"\u001b[39m\u001b[38;5;124moutput\u001b[39m\u001b[38;5;124m\"\u001b[39m),(\u001b[38;5;124m\"\u001b[39m\u001b[38;5;124msex\u001b[39m\u001b[38;5;124m\"\u001b[39m,\u001b[38;5;124m\"\u001b[39m\u001b[38;5;124moutput\u001b[39m\u001b[38;5;124m\"\u001b[39m),(\u001b[38;5;124m\"\u001b[39m\u001b[38;5;124mcp\u001b[39m\u001b[38;5;124m\"\u001b[39m,\u001b[38;5;124m\"\u001b[39m\u001b[38;5;124moutput\u001b[39m\u001b[38;5;124m\"\u001b[39m),(\u001b[38;5;124m\"\u001b[39m\u001b[38;5;124mrestecg\u001b[39m\u001b[38;5;124m\"\u001b[39m,\u001b[38;5;124m\"\u001b[39m\u001b[38;5;124moutput\u001b[39m\u001b[38;5;124m\"\u001b[39m)\n\u001b[0;32m      3\u001b[0m                      ])\n",
      "\u001b[1;31mModuleNotFoundError\u001b[0m: No module named 'pgmpy.model'"
     ]
    }
   ],
   "source": [
    "from pgmpy.model import BayesianModel\n",
    "model= BayesianModel([(\"age\",\"output\"),(\"sex\",\"output\"),(\"cp\",\"output\"),(\"restecg\",\"output\")\n",
    "                     ])"
   ]
  },
  {
   "cell_type": "code",
   "execution_count": null,
   "id": "b8b9d460-7432-4240-a1f4-165f5382ff65",
   "metadata": {},
   "outputs": [],
   "source": []
  }
 ],
 "metadata": {
  "kernelspec": {
   "display_name": "Python 3 (ipykernel)",
   "language": "python",
   "name": "python3"
  },
  "language_info": {
   "codemirror_mode": {
    "name": "ipython",
    "version": 3
   },
   "file_extension": ".py",
   "mimetype": "text/x-python",
   "name": "python",
   "nbconvert_exporter": "python",
   "pygments_lexer": "ipython3",
   "version": "3.11.4"
  }
 },
 "nbformat": 4,
 "nbformat_minor": 5
}
