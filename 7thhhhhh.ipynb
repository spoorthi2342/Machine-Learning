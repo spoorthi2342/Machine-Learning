{
 "cells": [
  {
   "cell_type": "code",
   "execution_count": 1,
   "id": "6b9e4f68-1330-4665-90e9-2cd6b97f8992",
   "metadata": {},
   "outputs": [],
   "source": [
    "import pandas as pd\n",
    "import numpy as np\n",
    "from sklearn.model_selection import train_test_split\n",
    "from sklearn.feature_extraction.text import CountVectorizer\n",
    "from sklearn.pipeline import make_pipeline\n",
    "from sklearn.naive_bayes import MultinomialNB"
   ]
  },
  {
   "cell_type": "code",
   "execution_count": null,
   "id": "cdee5738-f37f-43fb-8c10-304f12ef976e",
   "metadata": {},
   "outputs": [],
   "source": [
    "text=[\n",
    "    \"i love kannada\",\n",
    "    \"i know tulu very well\",\n",
    "    \" i don't like English\",\n",
    "    \"English is difficult\"\n",
    "]\n",
    "\n",
    "label=[\"positive\",\"positive\",\"negative\",\"negative\"]\n",
    "model = make_pipeline(\n",
    "    CountVectorizer(), MultinomialNB()\n",
    ")\n",
    "\n",
    "model.fit(text,label)\n",
    "test_set=[\"i hate English\"]\n",
    "predict\n",
    "\n"
   ]
  }
 ],
 "metadata": {
  "kernelspec": {
   "display_name": "Python 3 (ipykernel)",
   "language": "python",
   "name": "python3"
  },
  "language_info": {
   "codemirror_mode": {
    "name": "ipython",
    "version": 3
   },
   "file_extension": ".py",
   "mimetype": "text/x-python",
   "name": "python",
   "nbconvert_exporter": "python",
   "pygments_lexer": "ipython3",
   "version": "3.11.4"
  }
 },
 "nbformat": 4,
 "nbformat_minor": 5
}
