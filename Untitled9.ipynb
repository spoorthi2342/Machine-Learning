{
 "cells": [
  {
   "cell_type": "code",
   "execution_count": 1,
   "id": "8f876941-918d-4768-bf4a-6a254547c227",
   "metadata": {},
   "outputs": [],
   "source": [
    "import pandas as pd\n",
    "import numpy as np\n"
   ]
  },
  {
   "cell_type": "code",
   "execution_count": 3,
   "id": "8e08eb0e-cb6c-4195-8563-a341b744733c",
   "metadata": {},
   "outputs": [
    {
     "name": "stdout",
     "output_type": "stream",
     "text": [
      "[['sunny' 'warm' 'normal' 'strong' 'warm' 'same']\n",
      " ['sunny' 'warm' 'high' 'strong' 'warm' 'same']\n",
      " ['rainy' 'cold' 'high' 'strong' 'warm' 'change']\n",
      " ['sunny' 'warm' 'high' 'strong' 'cool' 'change']]\n",
      "['yes' 'yes' 'no' 'yes']\n"
     ]
    }
   ],
   "source": [
    "data=pd.read_csv('enjoysport.csv')\n",
    "data=pd.DataFrame(data)\n",
    "concepts= np.array(data.iloc[:,0:-1])\n",
    "print(concepts)\n",
    "target = np.array(data.iloc[:,-1])\n",
    "print(target)"
   ]
  },
  {
   "cell_type": "code",
   "execution_count": 15,
   "id": "518673af-27f9-432e-8342-0ba1775b5c48",
   "metadata": {},
   "outputs": [
    {
     "name": "stdout",
     "output_type": "stream",
     "text": [
      "['sunny' 'warm' 'normal' 'strong' 'warm' 'same']\n",
      "[['?', '?', '?', '?', '?', '?'], ['?', '?', '?', '?', '?', '?'], ['?', '?', '?', '?', '?', '?'], ['?', '?', '?', '?', '?', '?'], ['?', '?', '?', '?', '?', '?'], ['?', '?', '?', '?', '?', '?']]\n",
      "specific Hypothesis for  1 :\n",
      "['sunny' 'warm' 'normal' 'strong' 'warm' 'same']\n",
      "candidate elemination \n",
      "\n",
      "specific Hypothesis for this is \n",
      "\n",
      "['sunny' 'warm' 'normal' 'strong' 'warm' 'same']\n",
      "General Hypothesis \n",
      " \n",
      "[['?', '?', '?', '?', '?', '?'], ['?', '?', '?', '?', '?', '?'], ['?', '?', '?', '?', '?', '?'], ['?', '?', '?', '?', '?', '?'], ['?', '?', '?', '?', '?', '?'], ['?', '?', '?', '?', '?', '?']]\n",
      "specific Hypothesis for  2 :\n",
      "['sunny' 'warm' '?' 'strong' 'warm' 'same']\n",
      "candidate elemination \n",
      "\n",
      "specific Hypothesis for this is \n",
      "\n",
      "['sunny' 'warm' '?' 'strong' 'warm' 'same']\n",
      "General Hypothesis \n",
      " \n",
      "[['?', '?', '?', '?', '?', '?'], ['?', '?', '?', '?', '?', '?'], ['?', '?', '?', '?', '?', '?'], ['?', '?', '?', '?', '?', '?'], ['?', '?', '?', '?', '?', '?'], ['?', '?', '?', '?', '?', '?']]\n",
      "candidate elemination \n",
      "\n",
      "specific Hypothesis for this is \n",
      "\n",
      "['sunny' 'warm' '?' 'strong' 'warm' 'same']\n",
      "General Hypothesis \n",
      " \n",
      "[['sunny', '?', '?', '?', '?', '?'], ['?', 'warm', '?', '?', '?', '?'], ['?', '?', '?', '?', '?', '?'], ['?', '?', '?', '?', '?', '?'], ['?', '?', '?', '?', '?', '?'], ['?', '?', '?', '?', '?', 'same']]\n",
      "specific Hypothesis for  4 :\n",
      "['sunny' 'warm' '?' 'strong' '?' '?']\n",
      "candidate elemination \n",
      "\n",
      "specific Hypothesis for this is \n",
      "\n",
      "['sunny' 'warm' '?' 'strong' '?' '?']\n",
      "General Hypothesis \n",
      " \n",
      "[['sunny', '?', '?', '?', '?', '?'], ['?', 'warm', '?', '?', '?', '?'], ['?', '?', '?', '?', '?', '?'], ['?', '?', '?', '?', '?', '?'], ['?', '?', '?', '?', '?', '?'], ['?', '?', '?', '?', '?', '?']]\n",
      "final specific value is :\n",
      "['sunny' 'warm' '?' 'strong' '?' '?']\n",
      "final General value is:\n",
      "[['sunny', '?', '?', '?', '?', '?'], ['?', 'warm', '?', '?', '?', '?']]\n"
     ]
    }
   ],
   "source": [
    "def learn(concepts,target):\n",
    "    specific_h = concepts[0].copy()\n",
    "    general_h = [[\"?\" for i in range (len(specific_h))] for i in range (len(specific_h))]\n",
    "    print(specific_h)\n",
    "    print(general_h)\n",
    "    for i,h in enumerate(concepts):\n",
    "        if target[i] == 'yes':\n",
    "         for x in range (len(specific_h)):\n",
    "            if h[x] != specific_h[x]:\n",
    "                specific_h[x] ='?'\n",
    "                general_h[x][x]='?'\n",
    "         print(\"specific Hypothesis for \", i+1,\":\")\n",
    "         print(specific_h)\n",
    "        if target[i] =='no':\n",
    "            for x in range (len(specific_h)):\n",
    "                if h[x] != specific_h[x]:\n",
    "                  general_h[x][x] = specific_h[x]\n",
    "                else:\n",
    "                  general_h[x][x] ='?'\n",
    "        print(\"candidate elemination \\n\")\n",
    "        print(\"specific Hypothesis for this is \\n\")\n",
    "        print(specific_h)\n",
    "        print(\"General Hypothesis \\n \")\n",
    "        print(general_h)\n",
    "    indecis= [i for i,val in enumerate(general_h) if val == ['?','?','?','?','?','?']]\n",
    "    for i in indecis:\n",
    "       general_h.remove(['?','?','?','?','?','?'])\n",
    "    return specific_h,general_h\n",
    "\n",
    "s_final,g_final = learn(concepts,target)\n",
    "\n",
    "print(\"final specific value is :\")\n",
    "print(s_final)\n",
    "print(\"final General value is:\")\n",
    "print(g_final)\n",
    "          \n",
    "        \n",
    "              \n",
    "            \n",
    "      "
   ]
  },
  {
   "cell_type": "code",
   "execution_count": null,
   "id": "c3d206b8-be5f-427b-ace4-8267f03e1f07",
   "metadata": {},
   "outputs": [],
   "source": []
  }
 ],
 "metadata": {
  "kernelspec": {
   "display_name": "Python 3 (ipykernel)",
   "language": "python",
   "name": "python3"
  },
  "language_info": {
   "codemirror_mode": {
    "name": "ipython",
    "version": 3
   },
   "file_extension": ".py",
   "mimetype": "text/x-python",
   "name": "python",
   "nbconvert_exporter": "python",
   "pygments_lexer": "ipython3",
   "version": "3.11.4"
  }
 },
 "nbformat": 4,
 "nbformat_minor": 5
}
