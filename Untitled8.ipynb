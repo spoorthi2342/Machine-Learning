{
 "cells": [
  {
   "cell_type": "code",
   "execution_count": 2,
   "id": "04afc1e9-4f49-42a8-9bc6-f429b12a30c4",
   "metadata": {},
   "outputs": [],
   "source": [
    "import pandas as pd\n",
    "\n",
    "data= pd.read_csv(\"ws.csv\")"
   ]
  },
  {
   "cell_type": "code",
   "execution_count": 3,
   "id": "965f5ece-83ed-4f80-a6bb-349186a3d074",
   "metadata": {},
   "outputs": [],
   "source": [
    "features = data.columns[:-1]\n",
    "target= data.columns[-1]"
   ]
  },
  {
   "cell_type": "code",
   "execution_count": 4,
   "id": "4824b347-0b85-49f0-b0e0-e1b0e10da794",
   "metadata": {},
   "outputs": [],
   "source": [
    "hypothesis = ['?' for _ in range (len(features))]"
   ]
  },
  {
   "cell_type": "code",
   "execution_count": 11,
   "id": "716cffe0-a9da-49a5-9e85-9a7a3d7c0dee",
   "metadata": {},
   "outputs": [
    {
     "name": "stdout",
     "output_type": "stream",
     "text": [
      "0: ['Sunny', 'Warm', 'High', 'Strong', 'Warm', 'Same']\n",
      "1: ['Sunny', 'Warm', 'High', 'Strong', 'Warm', 'Same']\n",
      "2: ['Sunny', 'Warm', 'High', 'Strong', '?', '?']\n",
      "['Sunny', 'Warm', 'High', 'Strong', '?', '?']\n"
     ]
    }
   ],
   "source": [
    "for index, row in data.iterrows():\n",
    "    if row[target] == 'Yes':\n",
    "        for i in range (len(features)):\n",
    "            if hypothesis[i] == '?':\n",
    "                hypothesis[i] = row[i]\n",
    "            elif hypothesis[i] != row[i]:\n",
    "                hypothesis[i] = '?'\n",
    "    print(f\"{index}: {hypothesis}\")\n",
    "print(f\"{hypothesis}\")"
   ]
  },
  {
   "cell_type": "code",
   "execution_count": null,
   "id": "e9c96878-e18d-4dd0-8cf9-168e8c53680d",
   "metadata": {},
   "outputs": [],
   "source": []
  }
 ],
 "metadata": {
  "kernelspec": {
   "display_name": "Python 3 (ipykernel)",
   "language": "python",
   "name": "python3"
  },
  "language_info": {
   "codemirror_mode": {
    "name": "ipython",
    "version": 3
   },
   "file_extension": ".py",
   "mimetype": "text/x-python",
   "name": "python",
   "nbconvert_exporter": "python",
   "pygments_lexer": "ipython3",
   "version": "3.11.4"
  }
 },
 "nbformat": 4,
 "nbformat_minor": 5
}
