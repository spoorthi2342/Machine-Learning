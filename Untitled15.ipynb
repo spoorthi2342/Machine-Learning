{
 "cells": [
  {
   "cell_type": "code",
   "execution_count": 1,
   "id": "c5905ed6-ce92-4a55-adee-5119bedbc889",
   "metadata": {},
   "outputs": [],
   "source": [
    "import numpy as np\n",
    "import pandas as pd\n",
    "from sklearn.datasets import load_iris\n",
    "from sklearn.preprocessing import StandardScaler, OneHotEncoder\n"
   ]
  },
  {
   "cell_type": "code",
   "execution_count": 2,
   "id": "c4efff64-dcb3-48ab-a91e-a463362fdffd",
   "metadata": {},
   "outputs": [],
   "source": [
    "iris= load_iris()\n",
    "data= pd.DataFrame(data=iris.data,columns=iris.feature_names)"
   ]
  },
  {
   "cell_type": "code",
   "execution_count": 4,
   "id": "0ef58b4d-e28c-491d-97c8-f67c390eab1c",
   "metadata": {},
   "outputs": [],
   "source": [
    "data['target'] = iris.target\n",
    "data.iloc[0:0]=None\n",
    "data.iloc[2,2] = None\n"
   ]
  },
  {
   "cell_type": "code",
   "execution_count": 5,
   "id": "cb173f76-eeb4-4267-9eeb-fdd47493a4f0",
   "metadata": {},
   "outputs": [],
   "source": [
    "data= pd.concat([data, data.iloc[[0]]],ignore_index=True)\n"
   ]
  },
  {
   "cell_type": "code",
   "execution_count": 7,
   "id": "ea1adf9f-b150-4452-bfff-93d18eb98bc2",
   "metadata": {},
   "outputs": [],
   "source": [
    "data.fillna(data.mean(),inplace=True)\n",
    "data.drop_duplicates(inplace=True)\n"
   ]
  },
  {
   "cell_type": "code",
   "execution_count": 13,
   "id": "098f8674-88fd-4684-aab9-c5380409bce4",
   "metadata": {},
   "outputs": [],
   "source": [
    "data['species'] = iris.target_names[data['target']]\n",
    "scaler= StandardScaler()\n",
    "scaled_features= scaler.fit_transform(data.iloc[:,:-2])\n",
    "\n",
    "\n",
    "encoder= OneHotEncoder(sparse_output=False)\n",
    "encoded_feature = encoder.fit_transform(data[['species']])\n",
    "\n",
    "final_transformed_data = pd.concat([\n",
    "    pd.DataFrame(scaled_features, columns=iris.feature_names),\n",
    "    pd.DataFrame(encoded_feature, columns=encoder.get_feature_names_out(['species']))\n",
    "], axis=1)"
   ]
  },
  {
   "cell_type": "code",
   "execution_count": 14,
   "id": "88f2df4b-ecad-4b67-9406-8589e7bece93",
   "metadata": {},
   "outputs": [
    {
     "name": "stdout",
     "output_type": "stream",
     "text": [
      "   sepal length (cm)  sepal width (cm)  petal length (cm)  petal width (cm)  \\\n",
      "0          -0.898033          1.012401          -1.351472         -1.308624   \n",
      "1          -1.139562         -0.137353          -1.351472         -1.308624   \n",
      "2          -1.381091          0.322549          -0.003901         -1.308624   \n",
      "3          -1.501855          0.092598          -1.294339         -1.308624   \n",
      "4          -1.018798          1.242352          -1.351472         -1.308624   \n",
      "5          -0.535740          1.932205          -1.180073         -1.045486   \n",
      "6          -1.501855          0.782450          -1.351472         -1.177055   \n",
      "7          -1.018798          0.782450          -1.294339         -1.308624   \n",
      "8          -1.743384         -0.367304          -1.351472         -1.308624   \n",
      "9          -1.139562          0.092598          -1.294339         -1.440192   \n",
      "\n",
      "   species_setosa  species_versicolor  species_virginica  \n",
      "0             1.0                 0.0                0.0  \n",
      "1             1.0                 0.0                0.0  \n",
      "2             1.0                 0.0                0.0  \n",
      "3             1.0                 0.0                0.0  \n",
      "4             1.0                 0.0                0.0  \n",
      "5             1.0                 0.0                0.0  \n",
      "6             1.0                 0.0                0.0  \n",
      "7             1.0                 0.0                0.0  \n",
      "8             1.0                 0.0                0.0  \n",
      "9             1.0                 0.0                0.0  \n"
     ]
    }
   ],
   "source": [
    "print(final_transformed_data.head(10))"
   ]
  },
  {
   "cell_type": "code",
   "execution_count": null,
   "id": "b77c7da0-835f-4008-aab6-5155ec036801",
   "metadata": {},
   "outputs": [],
   "source": []
  }
 ],
 "metadata": {
  "kernelspec": {
   "display_name": "Python 3 (ipykernel)",
   "language": "python",
   "name": "python3"
  },
  "language_info": {
   "codemirror_mode": {
    "name": "ipython",
    "version": 3
   },
   "file_extension": ".py",
   "mimetype": "text/x-python",
   "name": "python",
   "nbconvert_exporter": "python",
   "pygments_lexer": "ipython3",
   "version": "3.11.4"
  }
 },
 "nbformat": 4,
 "nbformat_minor": 5
}
